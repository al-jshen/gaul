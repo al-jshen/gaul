{
 "cells": [
  {
   "cell_type": "code",
   "execution_count": 1,
   "id": "86a92500-c4c1-4a29-8ea3-127fffc266f1",
   "metadata": {},
   "outputs": [],
   "source": [
    "%load_ext autoreload"
   ]
  },
  {
   "cell_type": "code",
   "execution_count": 2,
   "id": "20a81b42-0ce1-4bcf-9311-72bc8d25077c",
   "metadata": {},
   "outputs": [],
   "source": [
    "%autoreload\n",
    "\n",
    "import numpy as np\n",
    "import jax\n",
    "import jax.numpy as jnp\n",
    "import jax.scipy.stats as stats\n",
    "from tqdm.notebook import tqdm\n",
    "import matplotlib.pyplot as plt\n",
    "%matplotlib inline\n",
    "import seaborn as sns\n",
    "import corner"
   ]
  },
  {
   "cell_type": "markdown",
   "id": "50567a70-9bc9-43dc-b2be-8f70189187e8",
   "metadata": {},
   "source": [
    "\\begin{align}\n",
    "y &\\sim \\mathcal{N}(\\beta_0 + \\beta_1 x, \\sigma) \\\\\n",
    "\\beta_0 &\\sim \\mathcal{N}(0, 1) \\\\\n",
    "\\beta_1 &\\sim \\mathcal{N}(0, 1) \\\\\n",
    "\\sigma &\\sim Exp(1)\n",
    "\\end{align}"
   ]
  },
  {
   "cell_type": "code",
   "execution_count": 308,
   "id": "caab7707-5f5a-412d-aba6-d347fdf843ce",
   "metadata": {},
   "outputs": [],
   "source": [
    "def factor(params, momentum, ln_posterior, inv_mass):\n",
    "    return ln_posterior(params) - 0.5 * momentum.T @ inv_mass @ momentum\n",
    "\n",
    "def accept_reject(state_old, state_new, ln_posterior, inv_mass, key):\n",
    "    params_old, momentum_old = state_old\n",
    "    params_new, momentum_new = state_new\n",
    "    \n",
    "    factor_old = factor(params_old, momentum_old, ln_posterior, inv_mass)\n",
    "    factor_new = factor(params_new, momentum_new, ln_posterior, inv_mass)\n",
    "    p_accept = jnp.clip(jnp.exp(factor_new - factor_old), a_max=1)\n",
    "    \n",
    "    if jax.random.uniform(key) < p_accept:\n",
    "        return params_new, -momentum_new, p_accept, 1\n",
    "    else:\n",
    "        return params_old, momentum_old, p_accept, 0"
   ]
  },
  {
   "cell_type": "code",
   "execution_count": 302,
   "id": "dac8cce2-bf37-446a-92cb-3671d28dd993",
   "metadata": {},
   "outputs": [],
   "source": [
    "def leapfrog(params_init, momentum_init, n_steps, stepsize, grad_fn, inv_mass):\n",
    "    params, momentum = params_init, momentum_init\n",
    "    for _ in range(n_steps):\n",
    "        momentum = momentum + grad_fn(params) * 0.5 * stepsize\n",
    "        params = params + inv_mass @ momentum * stepsize\n",
    "        momentum = momentum + grad_fn(params) * 0.5 * stepsize\n",
    "    return params, momentum"
   ]
  },
  {
   "cell_type": "code",
   "execution_count": 159,
   "id": "075d8137-228f-4dd9-a043-be24860d8ac2",
   "metadata": {},
   "outputs": [],
   "source": [
    "def opt(params_init, n_steps, lr, fn, grad_fn, hess_fn):\n",
    "    params = params_init\n",
    "    for _ in tqdm(range(n_steps)):\n",
    "        grad = grad_fn(params)\n",
    "        hess = hess_fn(params)\n",
    "        inv_hess = jnp.linalg.inv(hess)\n",
    "        params -= lr * inv_hess @ grad\n",
    "    return params"
   ]
  },
  {
   "cell_type": "code",
   "execution_count": 339,
   "id": "18f01d9e-2507-463c-b33c-d0e025922520",
   "metadata": {},
   "outputs": [],
   "source": [
    "def sample(\n",
    "    ln_posterior,\n",
    "    n_samples,\n",
    "    n_steps,\n",
    "    stepsize,\n",
    "    n_steps_opt,\n",
    "    stepsize_opt,\n",
    "    n_params,\n",
    "    n_tune,\n",
    "    key\n",
    "):\n",
    "    samples = []\n",
    "    samples_momentum = []\n",
    "    samples_paccept = []\n",
    "    \n",
    "    ln_posterior_grad = jax.jit(jax.grad(ln_posterior))\n",
    "    ln_posterior_hessian = jax.jit(jax.hessian(ln_posterior))\n",
    "    \n",
    "    params = jnp.zeros(n_params)\n",
    "    params = opt(params, n_steps_opt, stepsize_opt, ln_posterior, ln_posterior_grad, ln_posterior_hessian)\n",
    "    max_params = params\n",
    "    \n",
    "    mass = jnp.zeros((n_params, n_params))\n",
    "    \n",
    "    for i in tqdm(range(n_samples)):\n",
    "        \n",
    "        # mass = jnp.diag(jnp.ones(n_params))\n",
    "        # inv_mass = mass\n",
    "\n",
    "        mass = ln_posterior_hessian(params) * 1 / n_steps + mass * (1 - 1 / n_steps)\n",
    "        mass = mass / mass.sum()\n",
    "        inv_mass = jnp.linalg.inv(mass)\n",
    "    \n",
    "        key, subkey = jax.random.split(key)\n",
    "        momentum = jax.random.multivariate_normal(subkey, mean=jnp.zeros(n_params), cov=mass)\n",
    "        \n",
    "        params_new, momentum_new = leapfrog(params, momentum, n_steps, stepsize, ln_posterior_grad, inv_mass)\n",
    "        \n",
    "        key, subkey = jax.random.split(key)\n",
    "        params, momentum, p_accept, accepted = accept_reject((params, momentum), (params_new, momentum_new), ln_posterior, inv_mass, subkey)\n",
    "        \n",
    "        samples.append(params)\n",
    "        samples_momentum.append(momentum)\n",
    "        samples_paccept.append(p_accept)\n",
    "        \n",
    "    return jnp.array(samples), jnp.array(samples_momentum), jnp.array(samples_paccept), max_params"
   ]
  },
  {
   "cell_type": "code",
   "execution_count": 407,
   "id": "f193683e-f60d-4617-9d0f-db47ae81dcaf",
   "metadata": {},
   "outputs": [
    {
     "data": {
      "text/plain": [
       "<matplotlib.collections.PolyCollection at 0x7f636848b730>"
      ]
     },
     "execution_count": 407,
     "metadata": {},
     "output_type": "execute_result"
    },
    {
     "data": {
      "image/png": "[encoded data removed]",
      "text/plain": [
       "<Figure size 432x288 with 1 Axes>"
      ]
     },
     "metadata": {
      "needs_background": "light"
     },
     "output_type": "display_data"
    }
   ],
   "source": [
    "beta0 = 2.6\n",
    "beta1 = -0.4\n",
    "sigma = 1.6\n",
    "n = 50\n",
    "\n",
    "x = jnp.array(np.sort(np.random.uniform(0., 10., size=n)))\n",
    "ymean = beta0 + beta1 * x\n",
    "y = jnp.array(np.random.normal(ymean, sigma))\n",
    "\n",
    "plt.scatter(x, y)\n",
    "plt.plot(x, ymean)\n",
    "plt.fill_between(x, ymean - sigma, ymean + sigma, alpha=0.5)"
   ]
  },
  {
   "cell_type": "code",
   "execution_count": 408,
   "id": "1ff2c2db-a0df-46f1-a7a1-77dcac18a1e7",
   "metadata": {},
   "outputs": [],
   "source": [
    "def ln_prior(params):\n",
    "    beta0, beta1, sigma = params\n",
    "    target = 0\n",
    "    target += stats.norm.logpdf(beta0, 1., 3.)\n",
    "    target += stats.norm.logpdf(beta1, 0., 1.)\n",
    "    target += stats.expon.logpdf(jnp.exp(sigma))\n",
    "    return target.sum()\n",
    "\n",
    "def ln_likelihood(params, data):\n",
    "    beta0, beta1, sigma = params\n",
    "    x, y = data[:,0], data[:,1]\n",
    "    return stats.norm.logpdf(y, beta0 + beta1 * x, jnp.exp(sigma)).sum()\n",
    "\n",
    "def ln_posterior(params, data):\n",
    "    return ln_prior(params) + ln_likelihood(params, data)\n",
    "\n",
    "@jax.jit\n",
    "def ln_unnormalized_posterior(params):\n",
    "    return ln_posterior(params, jnp.stack((x, y)).T)"
   ]
  },
  {
   "cell_type": "code",
   "execution_count": null,
   "id": "158553d0-86b0-4bcc-bf0b-8dc6822835dc",
   "metadata": {},
   "outputs": [
    {
     "data": {
      "application/vnd.jupyter.widget-view+json": {
       "model_id": "1780cda8bb7246408307c8482ec65f26",
       "version_major": 2,
       "version_minor": 0
      },
      "text/plain": [
       "  0%|          | 0/1000 [00:00<?, ?it/s]"
      ]
     },
     "metadata": {},
     "output_type": "display_data"
    },
    {
     "data": {
      "application/vnd.jupyter.widget-view+json": {
       "model_id": "3ee0ab56a5f241538f251292e26b743e",
       "version_major": 2,
       "version_minor": 0
      },
      "text/plain": [
       "  0%|          | 0/1000 [00:00<?, ?it/s]"
      ]
     },
     "metadata": {},
     "output_type": "display_data"
    }
   ],
   "source": [
    "k = jax.random.PRNGKey(0)\n",
    "samples, momentum, paccepts, mle = sample(ln_unnormalized_posterior, 1000, 10, 5e-3, 1000, 0.1, 3, 500, k)"
   ]
  },
  {
   "cell_type": "code",
   "execution_count": null,
   "id": "ba535ed7-1623-4fc6-8b22-bbcdd809a346",
   "metadata": {},
   "outputs": [],
   "source": [
    "plt.plot(samples[:,0])\n",
    "plt.plot(samples[:,1])\n",
    "plt.plot(jnp.exp(samples[:,2]))"
   ]
  },
  {
   "cell_type": "code",
   "execution_count": null,
   "id": "6d4351c9-c34b-4708-bf90-d195dbe53777",
   "metadata": {},
   "outputs": [],
   "source": [
    "corner.corner(np.array(samples), truths=(beta0, beta1, jnp.log(sigma)));"
   ]
  },
  {
   "cell_type": "code",
   "execution_count": null,
   "id": "acf1ea0e-5033-4cd2-ad04-5a994ed0e732",
   "metadata": {},
   "outputs": [],
   "source": [
    "corner.corner(np.array(momentum), truths=np.zeros(3));"
   ]
  },
  {
   "cell_type": "code",
   "execution_count": null,
   "id": "0ca4c844-c004-48ef-bc3d-f8c2488bff37",
   "metadata": {},
   "outputs": [],
   "source": []
  }
 ],
 "metadata": {
  "kernelspec": {
   "display_name": "Python 3 (ipykernel)",
   "language": "python",
   "name": "python3"
  },
  "language_info": {
   "codemirror_mode": {
    "name": "ipython",
    "version": 3
   },
   "file_extension": ".py",
   "mimetype": "text/x-python",
   "name": "python",
   "nbconvert_exporter": "python",
   "pygments_lexer": "ipython3",
   "version": "3.9.7"
  }
 },
 "nbformat": 4,
 "nbformat_minor": 5
}
