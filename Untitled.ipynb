{
 "cells": [
  {
   "cell_type": "code",
   "execution_count": 8,
   "id": "1734968c-fe88-4e5c-a964-b44cb4460d04",
   "metadata": {},
   "outputs": [
    {
     "name": "stdout",
     "output_type": "stream",
     "text": [
      "The autoreload extension is already loaded. To reload it, use:\n",
      "  %reload_ext autoreload\n"
     ]
    }
   ],
   "source": [
    "%load_ext autoreload"
   ]
  },
  {
   "cell_type": "code",
   "execution_count": 9,
   "id": "021ee5ab-c0ff-47ba-b7c3-b242513beb82",
   "metadata": {},
   "outputs": [],
   "source": [
    "%autoreload\n",
    "import jax\n",
    "import jax.numpy as jnp\n",
    "import jax.nn as nn\n",
    "import jax.random as random\n",
    "from jx.nn.attention import *\n",
    "from jx.nn.transformer import *\n",
    "from jx.nn.utils import *\n",
    "import matplotlib.pyplot as plt"
   ]
  },
  {
   "cell_type": "code",
   "execution_count": 3,
   "id": "d5dca82c-8b54-4a93-9bf0-9756ca8921b1",
   "metadata": {},
   "outputs": [],
   "source": [
    "num_heads = 8\n",
    "model_size = 512\n",
    "hidden_size = 2048\n",
    "batch_size = 64\n",
    "num_layers = 2\n",
    "key_size = None\n",
    "a = key_size or model_size // num_heads\n",
    "k = random.PRNGKey(0)"
   ]
  },
  {
   "cell_type": "code",
   "execution_count": 35,
   "id": "edae5063-25e0-459f-8b0e-79a74c969532",
   "metadata": {},
   "outputs": [],
   "source": [
    "mha = MultiheadAttention(num_heads, model_size)"
   ]
  },
  {
   "cell_type": "code",
   "execution_count": 5,
   "id": "edeb8d7f-99f6-4eb1-b67f-dcc06760640d",
   "metadata": {},
   "outputs": [],
   "source": [
    "x = random.normal(k, (1, 60, 512))"
   ]
  },
  {
   "cell_type": "code",
   "execution_count": 6,
   "id": "92b95e96-3a8d-432a-9a12-ff6824cc253d",
   "metadata": {},
   "outputs": [
    {
     "data": {
      "text/plain": [
       "((1, 60, 512), (1, 60, 512))"
      ]
     },
     "execution_count": 6,
     "metadata": {},
     "output_type": "execute_result"
    }
   ],
   "source": [
    "x.shape, mha(x, x, x).shape"
   ]
  },
  {
   "cell_type": "code",
   "execution_count": 7,
   "id": "51064ed2-1507-4d56-a684-0f80d9daf6e8",
   "metadata": {},
   "outputs": [],
   "source": [
    "encl = EncoderLayer(model_size, num_heads, hidden_size)"
   ]
  },
  {
   "cell_type": "code",
   "execution_count": 8,
   "id": "6f662e88-2ae0-438e-9c84-a2ec680570e3",
   "metadata": {},
   "outputs": [],
   "source": [
    "y = random.normal(k, (batch_size, 43, model_size))"
   ]
  },
  {
   "cell_type": "code",
   "execution_count": 9,
   "id": "3c6e5ff7-9a83-485d-8c24-7b45ddab9177",
   "metadata": {},
   "outputs": [
    {
     "data": {
      "text/plain": [
       "((64, 43, 512), (64, 43, 512))"
      ]
     },
     "execution_count": 9,
     "metadata": {},
     "output_type": "execute_result"
    }
   ],
   "source": [
    "y.shape, encl(y, False).shape"
   ]
  },
  {
   "cell_type": "code",
   "execution_count": 10,
   "id": "d6610c99-b096-4764-846b-df03b57e7d82",
   "metadata": {},
   "outputs": [],
   "source": [
    "decl = DecoderLayer(model_size, num_heads, hidden_size)"
   ]
  },
  {
   "cell_type": "code",
   "execution_count": 11,
   "id": "fda951ec-954f-4397-b8cf-5b65394a88af",
   "metadata": {},
   "outputs": [],
   "source": [
    "z = random.normal(k, (batch_size, 50, model_size))"
   ]
  },
  {
   "cell_type": "code",
   "execution_count": 12,
   "id": "a13d1ea1-f129-4f74-8415-38a17ff3556c",
   "metadata": {},
   "outputs": [
    {
     "data": {
      "text/plain": [
       "(64, 50, 512)"
      ]
     },
     "execution_count": 12,
     "metadata": {},
     "output_type": "execute_result"
    }
   ],
   "source": [
    "decl(z, y).shape"
   ]
  },
  {
   "cell_type": "code",
   "execution_count": 34,
   "id": "20994ae4-ce94-462f-aa2d-fb3bd02420ca",
   "metadata": {},
   "outputs": [],
   "source": [
    "enc = Encoder(model_size, num_layers, num_heads, hidden_size, 8500, int(1e5))"
   ]
  },
  {
   "cell_type": "code",
   "execution_count": 35,
   "id": "b7aaa979-ff9c-43aa-ad53-c03ab9d81f16",
   "metadata": {},
   "outputs": [],
   "source": [
    "i = (random.uniform(k, (64, 62)) * 200).astype(jnp.int32)"
   ]
  },
  {
   "cell_type": "code",
   "execution_count": 36,
   "id": "20ecfe2e-8bf9-40e7-b730-361055e5afa3",
   "metadata": {},
   "outputs": [
    {
     "data": {
      "text/plain": [
       "(64, 62, 512)"
      ]
     },
     "execution_count": 36,
     "metadata": {},
     "output_type": "execute_result"
    }
   ],
   "source": [
    "enc(i).shape"
   ]
  },
  {
   "cell_type": "code",
   "execution_count": 37,
   "id": "25555910-fcb4-40e7-91c2-d8b30f98de0a",
   "metadata": {},
   "outputs": [],
   "source": [
    "dec = Decoder(model_size, num_layers, num_heads, hidden_size, 8000, 5000)"
   ]
  },
  {
   "cell_type": "code",
   "execution_count": 38,
   "id": "8125a0e7-1de2-4a95-8f31-cecc79e81bad",
   "metadata": {},
   "outputs": [],
   "source": [
    "j = (random.uniform(k, (64, 26)) * 200).astype(jnp.int32)"
   ]
  },
  {
   "cell_type": "code",
   "execution_count": 39,
   "id": "04779bae-1408-4d96-9204-9f7ee89962e7",
   "metadata": {},
   "outputs": [
    {
     "data": {
      "text/plain": [
       "(64, 26, 512)"
      ]
     },
     "execution_count": 39,
     "metadata": {},
     "output_type": "execute_result"
    }
   ],
   "source": [
    "dec(j, enc(i)).shape"
   ]
  },
  {
   "cell_type": "code",
   "execution_count": null,
   "id": "565557a8-4ae3-45d9-ba36-1e93d0e42285",
   "metadata": {},
   "outputs": [],
   "source": [
    "dec."
   ]
  },
  {
   "cell_type": "code",
   "execution_count": 30,
   "id": "00760898-7873-4ddb-8da0-3fb69cc4c5ea",
   "metadata": {},
   "outputs": [],
   "source": [
    "tfm = Transformer(model_size, num_layers, num_heads, hidden_size, 1, 1, 1000, 600)"
   ]
  },
  {
   "cell_type": "code",
   "execution_count": 31,
   "id": "a8a5d9c0-13a1-450f-aeed-4549e325b980",
   "metadata": {},
   "outputs": [],
   "source": [
    "f = (random.uniform(k, (64, 38)) * 200).astype(jnp.int32)\n",
    "t = (random.uniform(k, (64, 36)) * 200).astype(jnp.int32)"
   ]
  },
  {
   "cell_type": "code",
   "execution_count": 33,
   "id": "68134d68-8484-4bf5-b86f-963deb565225",
   "metadata": {},
   "outputs": [
    {
     "data": {
      "text/plain": [
       "(64, 36, 1)"
      ]
     },
     "execution_count": 33,
     "metadata": {},
     "output_type": "execute_result"
    }
   ],
   "source": [
    "tfm(f, t).shape"
   ]
  },
  {
   "cell_type": "code",
   "execution_count": null,
   "id": "453fa570-50d0-4a54-9686-7eb2bf710492",
   "metadata": {},
   "outputs": [],
   "source": []
  }
 ],
 "metadata": {
  "kernelspec": {
   "display_name": "Python 3 (ipykernel)",
   "language": "python",
   "name": "python3"
  },
  "language_info": {
   "codemirror_mode": {
    "name": "ipython",
    "version": 3
   },
   "file_extension": ".py",
   "mimetype": "text/x-python",
   "name": "python",
   "nbconvert_exporter": "python",
   "pygments_lexer": "ipython3",
   "version": "3.9.7"
  }
 },
 "nbformat": 4,
 "nbformat_minor": 5
}
