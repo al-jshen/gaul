{
 "cells": [
  {
   "cell_type": "code",
   "execution_count": 143,
   "id": "1734968c-fe88-4e5c-a964-b44cb4460d04",
   "metadata": {},
   "outputs": [
    {
     "name": "stdout",
     "output_type": "stream",
     "text": [
      "The autoreload extension is already loaded. To reload it, use:\n",
      "  %reload_ext autoreload\n"
     ]
    }
   ],
   "source": [
    "%load_ext autoreload"
   ]
  },
  {
   "cell_type": "code",
   "execution_count": 181,
   "id": "021ee5ab-c0ff-47ba-b7c3-b242513beb82",
   "metadata": {},
   "outputs": [],
   "source": [
    "%autoreload\n",
    "import jax\n",
    "import jax.numpy as jnp\n",
    "import jax.nn as nn\n",
    "import jax.random as random\n",
    "from jx.nn.attention import *\n",
    "from jx.nn.transformer import *\n",
    "import matplotlib.pyplot as plt"
   ]
  },
  {
   "cell_type": "code",
   "execution_count": 171,
   "id": "edae5063-25e0-459f-8b0e-79a74c969532",
   "metadata": {},
   "outputs": [],
   "source": [
    "mha = MultiheadAttention(num_heads=8, model_size=512)"
   ]
  },
  {
   "cell_type": "code",
   "execution_count": 172,
   "id": "d5dca82c-8b54-4a93-9bf0-9756ca8921b1",
   "metadata": {},
   "outputs": [],
   "source": [
    "num_heads = 8\n",
    "model_size = 512\n",
    "hidden_size = 2048\n",
    "batch_size = 64\n",
    "key_size = None\n",
    "a = key_size or model_size // num_heads\n",
    "k = random.PRNGKey(0)"
   ]
  },
  {
   "cell_type": "code",
   "execution_count": 173,
   "id": "edeb8d7f-99f6-4eb1-b67f-dcc06760640d",
   "metadata": {},
   "outputs": [],
   "source": [
    "x = random.normal(k, (1, 60, 512))"
   ]
  },
  {
   "cell_type": "code",
   "execution_count": 174,
   "id": "92b95e96-3a8d-432a-9a12-ff6824cc253d",
   "metadata": {},
   "outputs": [
    {
     "name": "stdout",
     "output_type": "stream",
     "text": [
      "(1, 8, 60, 64) (1, 8, 60, 64)\n"
     ]
    },
    {
     "data": {
      "text/plain": [
       "((1, 60, 512), (1, 60, 512))"
      ]
     },
     "execution_count": 174,
     "metadata": {},
     "output_type": "execute_result"
    }
   ],
   "source": [
    "x.shape, mha(x, x, x).shape"
   ]
  },
  {
   "cell_type": "code",
   "execution_count": 175,
   "id": "51064ed2-1507-4d56-a684-0f80d9daf6e8",
   "metadata": {},
   "outputs": [],
   "source": [
    "enc = EncoderLayer(model_size, num_heads, hidden_size)"
   ]
  },
  {
   "cell_type": "code",
   "execution_count": 176,
   "id": "6f662e88-2ae0-438e-9c84-a2ec680570e3",
   "metadata": {},
   "outputs": [],
   "source": [
    "y = random.normal(k, (batch_size, 43, model_size))"
   ]
  },
  {
   "cell_type": "code",
   "execution_count": 177,
   "id": "3c6e5ff7-9a83-485d-8c24-7b45ddab9177",
   "metadata": {},
   "outputs": [
    {
     "name": "stdout",
     "output_type": "stream",
     "text": [
      "(64, 8, 43, 64) (64, 8, 43, 64)\n"
     ]
    },
    {
     "data": {
      "text/plain": [
       "((64, 43, 512), (64, 43, 512))"
      ]
     },
     "execution_count": 177,
     "metadata": {},
     "output_type": "execute_result"
    }
   ],
   "source": [
    "y.shape, enc(y, False).shape"
   ]
  },
  {
   "cell_type": "code",
   "execution_count": 183,
   "id": "d6610c99-b096-4764-846b-df03b57e7d82",
   "metadata": {},
   "outputs": [],
   "source": [
    "dec = DecoderLayer(model_size, num_heads, hidden_size)"
   ]
  },
  {
   "cell_type": "code",
   "execution_count": 184,
   "id": "fda951ec-954f-4397-b8cf-5b65394a88af",
   "metadata": {},
   "outputs": [],
   "source": [
    "z = random.normal(k, (batch_size, 50, model_size))"
   ]
  },
  {
   "cell_type": "code",
   "execution_count": 185,
   "id": "a13d1ea1-f129-4f74-8415-38a17ff3556c",
   "metadata": {},
   "outputs": [
    {
     "data": {
      "text/plain": [
       "(64, 50, 512)"
      ]
     },
     "execution_count": 185,
     "metadata": {},
     "output_type": "execute_result"
    }
   ],
   "source": [
    "dec(z, y).shape"
   ]
  },
  {
   "cell_type": "code",
   "execution_count": null,
   "id": "ebade899-f729-4cb7-8244-36dab27a5696",
   "metadata": {},
   "outputs": [],
   "source": []
  },
  {
   "cell_type": "code",
   "execution_count": null,
   "id": "933e582a-8256-4f9f-8b35-8ca30cd48a05",
   "metadata": {},
   "outputs": [],
   "source": []
  }
 ],
 "metadata": {
  "kernelspec": {
   "display_name": "Python 3 (ipykernel)",
   "language": "python",
   "name": "python3"
  },
  "language_info": {
   "codemirror_mode": {
    "name": "ipython",
    "version": 3
   },
   "file_extension": ".py",
   "mimetype": "text/x-python",
   "name": "python",
   "nbconvert_exporter": "python",
   "pygments_lexer": "ipython3",
   "version": "3.9.7"
  }
 },
 "nbformat": 4,
 "nbformat_minor": 5
}
