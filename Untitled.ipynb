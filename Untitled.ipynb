{
 "cells": [
  {
   "cell_type": "code",
   "execution_count": 1,
   "id": "1734968c-fe88-4e5c-a964-b44cb4460d04",
   "metadata": {},
   "outputs": [],
   "source": [
    "%load_ext autoreload"
   ]
  },
  {
   "cell_type": "code",
   "execution_count": 36,
   "id": "021ee5ab-c0ff-47ba-b7c3-b242513beb82",
   "metadata": {},
   "outputs": [],
   "source": [
    "%autoreload\n",
    "import jax\n",
    "import jax.numpy as jnp\n",
    "import jax.nn as nn\n",
    "import jax.random as random\n",
    "from jx.nn.attention import *"
   ]
  },
  {
   "cell_type": "code",
   "execution_count": 82,
   "id": "edae5063-25e0-459f-8b0e-79a74c969532",
   "metadata": {},
   "outputs": [],
   "source": [
    "key = random.PRNGKey(1)\n",
    "\n",
    "dk = 512\n",
    "dv = 512\n",
    "h = 8\n",
    "dmodel = 512\n",
    "n = 100\n",
    "dff = 2048\n",
    "\n",
    "k = random.normal(key, shape=(n,dk))\n",
    "key, _ = random.split(key)\n",
    "q = random.normal(key, shape=(n,dk))\n",
    "key, _ = random.split(key)\n",
    "v = random.normal(key, shape=(n,dv))\n",
    "\n",
    "key, _ = random.split(key)\n",
    "wk_arr = random.normal(key, shape=(h, dk, dk))\n",
    "key, _ = random.split(key)\n",
    "wq_arr = random.normal(key, shape=(h, dk, dk))\n",
    "key, _ = random.split(key)\n",
    "wv_arr = random.normal(key, shape=(h, dv, dv))\n",
    "key, _ = random.split(key)\n",
    "wo = random.normal(key, shape=(h * dv, dmodel))\n",
    "\n",
    "key, _ = random.split(key)\n",
    "w1 = random.normal(key, shape=(dmodel, dff))\n",
    "key, _ = random.split(key)\n",
    "b1 = random.normal(key, shape=(1, dff))\n",
    "key, _ = random.split(key)\n",
    "w2 = random.normal(key, shape=(dff, dmodel))\n",
    "key, _ = random.split(key)\n",
    "b2 = random.normal(key, shape=(1, dmodel))"
   ]
  },
  {
   "cell_type": "code",
   "execution_count": 113,
   "id": "f283f362-9e91-4ea6-bd19-27cc618bcee4",
   "metadata": {},
   "outputs": [],
   "source": [
    "@jax.jit\n",
    "def layer(x, v, wq_arr, wk_arr, wv_arr, wo, w1, w2, b1, b2, gamma, beta):\n",
    "    mh = multihead_attention(x, x, v, wq_arr, wk_arr, wv_arr, wo)\n",
    "    x = q + mh\n",
    "    x = layernorm(x, gamma, beta)\n",
    "\n",
    "    f = ffn(x, w1, w2, b1, b2)\n",
    "    x = x + f\n",
    "    x = layernorm(x, gamma, beta)\n",
    "    \n",
    "    return x\n"
   ]
  },
  {
   "cell_type": "code",
   "execution_count": 119,
   "id": "4d8a5e01-aa7b-4ae6-9d4f-6d8cf9169c5f",
   "metadata": {},
   "outputs": [
    {
     "name": "stdout",
     "output_type": "stream",
     "text": [
      "670 µs ± 4.67 µs per loop (mean ± std. dev. of 7 runs, 1000 loops each)\n"
     ]
    }
   ],
   "source": [
    "%%timeit\n",
    "\n",
    "x = layer(q, v, wq_arr, wk_arr, wv_arr, wo, w1, w2, b1, b2, 1., 0.)\n",
    "\n",
    "x.shape"
   ]
  },
  {
   "cell_type": "code",
   "execution_count": null,
   "id": "51064ed2-1507-4d56-a684-0f80d9daf6e8",
   "metadata": {},
   "outputs": [],
   "source": []
  }
 ],
 "metadata": {
  "kernelspec": {
   "display_name": "Python 3 (ipykernel)",
   "language": "python",
   "name": "python3"
  },
  "language_info": {
   "codemirror_mode": {
    "name": "ipython",
    "version": 3
   },
   "file_extension": ".py",
   "mimetype": "text/x-python",
   "name": "python",
   "nbconvert_exporter": "python",
   "pygments_lexer": "ipython3",
   "version": "3.9.7"
  }
 },
 "nbformat": 4,
 "nbformat_minor": 5
}
